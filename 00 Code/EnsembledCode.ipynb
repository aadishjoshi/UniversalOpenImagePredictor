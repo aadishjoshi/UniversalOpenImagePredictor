{
 "cells": [
  {
   "cell_type": "code",
   "execution_count": 1,
   "metadata": {},
   "outputs": [
    {
     "name": "stderr",
     "output_type": "stream",
     "text": [
      "Using TensorFlow backend.\n",
      "100%|██████████| 10000/10000 [00:00<00:00, 212962.88it/s]\n",
      "100%|██████████| 2000/2000 [00:00<00:00, 170937.93it/s]\n"
     ]
    }
   ],
   "source": [
    "from DataPreprocess import *\n",
    "from ourModel import *\n",
    "from ourInceptionV3 import *\n",
    "from ourInceptionResnetV2 import *\n",
    "from ourResnet50 import *"
   ]
  },
  {
   "cell_type": "code",
   "execution_count": 2,
   "metadata": {},
   "outputs": [
    {
     "data": {
      "application/vnd.jupyter.widget-view+json": {
       "model_id": "43b0463fc71948a7befd7932d96f0f1a",
       "version_major": 2,
       "version_minor": 0
      },
      "text/plain": [
       "HBox(children=(IntProgress(value=0, max=32580), HTML(value='')))"
      ]
     },
     "metadata": {},
     "output_type": "display_data"
    },
    {
     "name": "stdout",
     "output_type": "stream",
     "text": [
      "\n"
     ]
    }
   ],
   "source": [
    "#testing code\n",
    "df = pd.read_csv('E:/Datasets/all/stage_1_sample_submission.csv', usecols=[0])\n",
    "im = df.image_id.tolist()\n",
    "\n",
    "for i in tqdm_notebook(im):\n",
    "    try: \n",
    "        X_test = np.array(load_img('E:/Datasets/all/stage_1_test_images/{}.jpg'.format(i),target_size=(100,100), grayscale=True))/255\n",
    "    except:\n",
    "        pass\n",
    "    \n",
    "X_test = np.array(X_test).reshape((1,100,100,1))\n"
   ]
  },
  {
   "cell_type": "code",
   "execution_count": 3,
   "metadata": {},
   "outputs": [],
   "source": [
    "class_description = pd.read_csv('E:/Datasets/all/class-descriptions.csv', usecols=[0,1])\n",
    "label_list = class_description.label_code.tolist()"
   ]
  },
  {
   "cell_type": "code",
   "execution_count": null,
   "metadata": {},
   "outputs": [],
   "source": [
    "#----------------------------------------------------prediction for ourModel20"
   ]
  },
  {
   "cell_type": "code",
   "execution_count": null,
   "metadata": {},
   "outputs": [],
   "source": [
    "ourModel20 = myModule()\n",
    "prediction_ourModel = ourModel20.predict(X_test).argsort(1)[:,:5]"
   ]
  },
  {
   "cell_type": "code",
   "execution_count": null,
   "metadata": {},
   "outputs": [],
   "source": [
    "p1 = []\n",
    "for it in tqdm(prediction_ourModel):\n",
    "    p1.append([classes[int(i)] for i in it])\n",
    "    \n",
    "    \n",
    "for i in p1[0]:\n",
    "    for k in range(0,len(class_description.label_code)):\n",
    "        j = class_description.label_code[k]\n",
    "        if i == j:\n",
    "            print(j)\n",
    "            print(class_description.description[k])\n",
    "            break;"
   ]
  },
  {
   "cell_type": "code",
   "execution_count": null,
   "metadata": {},
   "outputs": [],
   "source": [
    "#--------------------------------------------------------------ourInceptionResnetModel"
   ]
  },
  {
   "cell_type": "code",
   "execution_count": null,
   "metadata": {},
   "outputs": [],
   "source": [
    "#prediction for ourInceptionResnetModel\n",
    "ourInceptionResnetModel = ourInceptionResnet()\n",
    "prediction_ourInceptionResnet = ourInceptionResnetModel.predict(X_test).argsort(1)[:,:5]"
   ]
  },
  {
   "cell_type": "code",
   "execution_count": null,
   "metadata": {},
   "outputs": [],
   "source": [
    "p2 = []\n",
    "for it in tqdm(prediction_ourModel):\n",
    "    p2.append([classes[int(i)] for i in it])\n",
    "    \n",
    "    \n",
    "for i in p2[0]:\n",
    "    for k in range(0,len(class_description.label_code)):\n",
    "        j = class_description.label_code[k]\n",
    "        if i == j:\n",
    "            print(j)\n",
    "            print(class_description.description[k])\n",
    "            break;"
   ]
  },
  {
   "cell_type": "code",
   "execution_count": null,
   "metadata": {},
   "outputs": [],
   "source": [
    "#--------------------------------------------------------------ourResnet50Model"
   ]
  },
  {
   "cell_type": "code",
   "execution_count": null,
   "metadata": {},
   "outputs": [],
   "source": [
    "#prediction for ourResnet50Model\n",
    "ourResnet50Model = ourResnet()\n",
    "prediction_ourResnet50 = ourResnet50Model.predict(X_test).argsort(1)[:,:5]"
   ]
  },
  {
   "cell_type": "code",
   "execution_count": null,
   "metadata": {},
   "outputs": [],
   "source": [
    "p3 = []\n",
    "for it in tqdm(prediction_ourModel):\n",
    "    p3.append([classes[int(i)] for i in it])\n",
    "    \n",
    "    \n",
    "for i in p3[0]:\n",
    "    for k in range(0,len(class_description.label_code)):\n",
    "        j = class_description.label_code[k]\n",
    "        if i == j:\n",
    "            print(j)\n",
    "            print(class_description.description[k])\n",
    "            break;"
   ]
  },
  {
   "cell_type": "code",
   "execution_count": null,
   "metadata": {},
   "outputs": [],
   "source": [
    "#--------------------------------------------------------------ourInceptionV3Model"
   ]
  },
  {
   "cell_type": "code",
   "execution_count": null,
   "metadata": {},
   "outputs": [],
   "source": [
    "#prediction for ourInceptionV3Model\n",
    "ourInceptionV3Model = ourInceptionV3()\n",
    "prediction_ourInceptionV3 = ourInceptionV3Model.predict(X_test).argsort(1)[:,:5]"
   ]
  },
  {
   "cell_type": "code",
   "execution_count": null,
   "metadata": {},
   "outputs": [],
   "source": [
    "p4 = []\n",
    "for it in tqdm(prediction_ourModel):\n",
    "    p4.append([classes[int(i)] for i in it])\n",
    "    \n",
    "    \n",
    "for i in p4[0]:\n",
    "    for k in range(0,len(class_description.label_code)):\n",
    "        j = class_description.label_code[k]\n",
    "        if i == j:\n",
    "            print(j)\n",
    "            print(class_description.description[k])\n",
    "            break;"
   ]
  },
  {
   "cell_type": "code",
   "execution_count": null,
   "metadata": {},
   "outputs": [],
   "source": [
    "def ensemble(output1,output2, output3, output4):\n",
    "    print(numpy.average([output1, output2, output3, output4], axis = 1).\n",
    "\n",
    "ensemble(p1,p2,p3,p4)"
   ]
  }
 ],
 "metadata": {
  "kernelspec": {
   "display_name": "Python 3",
   "language": "python",
   "name": "python3"
  },
  "language_info": {
   "codemirror_mode": {
    "name": "ipython",
    "version": 3
   },
   "file_extension": ".py",
   "mimetype": "text/x-python",
   "name": "python",
   "nbconvert_exporter": "python",
   "pygments_lexer": "ipython3",
   "version": "3.6.5"
  }
 },
 "nbformat": 4,
 "nbformat_minor": 2
}
